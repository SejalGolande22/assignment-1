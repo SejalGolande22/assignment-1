{
 "cells": [
  {
   "cell_type": "code",
   "execution_count": 2,
   "id": "2395269f-0ad3-4c78-9ffd-20394afdef6c",
   "metadata": {},
   "outputs": [],
   "source": [
    "# Q1.How do you comment code in Python? What are the different types of comments?"
   ]
  },
  {
   "cell_type": "code",
   "execution_count": 1,
   "id": "a386741d-1bcc-41d8-b741-055a2fb5ae82",
   "metadata": {},
   "outputs": [
    {
     "name": "stdout",
     "output_type": "stream",
     "text": [
      "pws skills\n"
     ]
    }
   ],
   "source": [
    "#1. single line comment\n",
    "print(\"pws skills\")\n"
   ]
  },
  {
   "cell_type": "code",
   "execution_count": 9,
   "id": "847437d2-16dc-4601-b3a4-2ed5611245c2",
   "metadata": {},
   "outputs": [],
   "source": [
    "#2. multi line comment"
   ]
  },
  {
   "cell_type": "code",
   "execution_count": 2,
   "id": "d38e3645-d39a-4a0e-972e-88d0deedb03d",
   "metadata": {},
   "outputs": [
    {
     "name": "stdout",
     "output_type": "stream",
     "text": [
      "Multiline comments\n"
     ]
    }
   ],
   "source": [
    "# Python program to demonstrate\n",
    "# multiline comments\n",
    "print(\"Multiline comments\")\n"
   ]
  },
  {
   "cell_type": "code",
   "execution_count": 4,
   "id": "c2ed8e8e-dabc-434e-bef9-7674e9b1f002",
   "metadata": {},
   "outputs": [
    {
     "name": "stdout",
     "output_type": "stream",
     "text": [
      "Multiplies the value of a and b\n"
     ]
    }
   ],
   "source": [
    "#3.Docstring comment\n",
    "def multiply(a, b):\n",
    "    \"\"\"Multiplies the value of a and b\"\"\"\n",
    "    return a*b\n",
    " \n",
    "print(multiply.__doc__)\n"
   ]
  },
  {
   "cell_type": "code",
   "execution_count": null,
   "id": "cca46e0d-3b57-438d-a469-17e94dedc550",
   "metadata": {},
   "outputs": [],
   "source": [
    "#Q2. What are variables in Python? How do you declare and assign values to variables?"
   ]
  },
  {
   "cell_type": "code",
   "execution_count": 11,
   "id": "fe1ace7e-1f87-45c3-866f-f20c65ac6125",
   "metadata": {},
   "outputs": [
    {
     "name": "stdout",
     "output_type": "stream",
     "text": [
      "<class 'int'>\n",
      "<class 'int'>\n"
     ]
    }
   ],
   "source": [
    "# Assigning integer values to variables\n",
    "age = 21\n",
    "height = 170\n",
    "print(type(age))\n",
    "print(type(height))"
   ]
  },
  {
   "cell_type": "code",
   "execution_count": 12,
   "id": "1b660c77-ef80-45a4-bdfa-395babf7e29d",
   "metadata": {},
   "outputs": [
    {
     "name": "stdout",
     "output_type": "stream",
     "text": [
      "<class 'bool'>\n"
     ]
    }
   ],
   "source": [
    "# Assigning a boolean value to a variable\n",
    "is_student = True\n",
    "print(type(is_student))"
   ]
  },
  {
   "cell_type": "code",
   "execution_count": 13,
   "id": "7c1e6603-43d1-414d-811b-a84f6b970040",
   "metadata": {},
   "outputs": [
    {
     "name": "stdout",
     "output_type": "stream",
     "text": [
      "<class 'str'>\n",
      "<class 'str'>\n"
     ]
    }
   ],
   "source": [
    "# Assigning string values to variables\n",
    "name = \"Sejal\"\n",
    "city = \"Mumbai\"\n",
    "print(type(name))\n",
    "print(type(city))"
   ]
  },
  {
   "cell_type": "code",
   "execution_count": 14,
   "id": "1a5c82f8-699a-4c4d-a4a8-01a8dd96e579",
   "metadata": {},
   "outputs": [
    {
     "name": "stdout",
     "output_type": "stream",
     "text": [
      "<class 'list'>\n"
     ]
    }
   ],
   "source": [
    "# Assigning a list to a variable\n",
    "fruits = [\"apple\", \"banana\", \"grapes\"]\n",
    "\n",
    "print(type(fruits))"
   ]
  },
  {
   "cell_type": "code",
   "execution_count": 15,
   "id": "267dd060-f5cd-41a1-bbe7-be4c8309fb67",
   "metadata": {},
   "outputs": [
    {
     "name": "stdout",
     "output_type": "stream",
     "text": [
      "<class 'float'>\n"
     ]
    }
   ],
   "source": [
    "# Assigning float values to variables\n",
    "x= 56.654\n",
    "print(type(x))"
   ]
  },
  {
   "cell_type": "code",
   "execution_count": null,
   "id": "380b58b7-4f49-4457-b082-908cc685254d",
   "metadata": {},
   "outputs": [],
   "source": [
    "#Q3. How do you convert one data type to another in Python?"
   ]
  },
  {
   "cell_type": "code",
   "execution_count": 17,
   "id": "688bf7d5-f294-44f8-a67c-bab607cc6966",
   "metadata": {},
   "outputs": [
    {
     "name": "stdout",
     "output_type": "stream",
     "text": [
      "3\n"
     ]
    }
   ],
   "source": [
    "float_no = 3.14\n",
    "integer_no = int(float_no)\n",
    "print(integer_no)"
   ]
  },
  {
   "cell_type": "code",
   "execution_count": 18,
   "id": "49183659-1df1-4167-8ead-a5ef15758ad0",
   "metadata": {},
   "outputs": [
    {
     "name": "stdout",
     "output_type": "stream",
     "text": [
      "42.0\n"
     ]
    }
   ],
   "source": [
    "integer_no = 42\n",
    "float_no = float(integer_no)\n",
    "print(float_no)"
   ]
  },
  {
   "cell_type": "code",
   "execution_count": 21,
   "id": "3aaef414-eed2-40d0-9fb7-08c51b7d3011",
   "metadata": {},
   "outputs": [
    {
     "name": "stdout",
     "output_type": "stream",
     "text": [
      "(2+42j)\n"
     ]
    }
   ],
   "source": [
    "complex_no = 42j+2\n",
    "str_no = str(complex_no)\n",
    "print(str_no)"
   ]
  },
  {
   "cell_type": "code",
   "execution_count": 22,
   "id": "6ae283a6-9bef-4c93-92b8-977b51a604b7",
   "metadata": {},
   "outputs": [
    {
     "name": "stdout",
     "output_type": "stream",
     "text": [
      "True\n"
     ]
    }
   ],
   "source": [
    "num = 10\n",
    "is_positive = bool(num)\n",
    "print(is_positive) "
   ]
  },
  {
   "cell_type": "code",
   "execution_count": null,
   "id": "b2930b9d-f789-4b97-82bb-3d462b28ca89",
   "metadata": {},
   "outputs": [],
   "source": [
    "#Q4. How do you write and execute a Python script from the command line?"
   ]
  },
  {
   "cell_type": "code",
   "execution_count": null,
   "id": "b91e499f-7757-455d-a155-b3c98f10073a",
   "metadata": {},
   "outputs": [],
   "source": [
    "\"\"\" Microsoft Windows [Version 10.0.22621.1992]\n",
    "(c) Microsoft Corporation. All rights reserved.\n",
    "\n",
    "C:\\Users\\golan>python\n",
    "Python 3.9.4 (tags/v3.9.4:1f2e308, Apr  6 2021, 13:40:21) [MSC v.1928 64 bit (AMD64)] on win32\n",
    "Type \"help\", \"copyright\", \"credits\" or \"license\" for more information.\n",
    ">>> print(\"pwskills assignment 2\")\n",
    "pwskills assignment 2\n",
    ">>> \"\"\""
   ]
  },
  {
   "cell_type": "code",
   "execution_count": null,
   "id": "553aa8b2-0b69-40c6-9f67-9310902781e1",
   "metadata": {},
   "outputs": [],
   "source": [
    "#Q5. Given a list my_list = [1, 2, 3, 4, 5], write the code to slice the list and obtain the sub-list [2, 3]."
   ]
  },
  {
   "cell_type": "code",
   "execution_count": 23,
   "id": "d7b6b695-3f62-44ca-ae1c-7f1d52279d41",
   "metadata": {},
   "outputs": [
    {
     "name": "stdout",
     "output_type": "stream",
     "text": [
      "[2, 3]\n"
     ]
    }
   ],
   "source": [
    "my_list = [1, 2, 3, 4, 5]\n",
    "sub_list = my_list[1:3]\n",
    "print(sub_list)"
   ]
  },
  {
   "cell_type": "code",
   "execution_count": null,
   "id": "58df604e-7054-4d61-81cc-80e958ab4a26",
   "metadata": {},
   "outputs": [],
   "source": [
    "#Q6. What is a complex number in mathematics, and how is it represented in Python?"
   ]
  },
  {
   "cell_type": "code",
   "execution_count": null,
   "id": "1a561d92-698f-4c47-8582-e8890f47c083",
   "metadata": {},
   "outputs": [],
   "source": [
    "\"\"\"\"Converting real numbers to complex number An complex number is represented by “ x + yi “.\n",
    "Python converts the real numbers x and y into complex using the function complex(x,y).\"\"\""
   ]
  },
  {
   "cell_type": "code",
   "execution_count": 24,
   "id": "347c09cb-5ae3-4ba8-a78e-bd8ac417ff64",
   "metadata": {},
   "outputs": [],
   "source": [
    "a= 7 + 5j"
   ]
  },
  {
   "cell_type": "code",
   "execution_count": 25,
   "id": "68b528f2-5c13-4cc3-8276-a6f4d67c200b",
   "metadata": {},
   "outputs": [
    {
     "name": "stdout",
     "output_type": "stream",
     "text": [
      "<class 'complex'>\n"
     ]
    }
   ],
   "source": [
    "print(type(a))"
   ]
  },
  {
   "cell_type": "code",
   "execution_count": null,
   "id": "75086e1d-10a5-445d-a530-ba04d5551b3a",
   "metadata": {},
   "outputs": [],
   "source": [
    "#Q7. What is the correct way to declare a variable named age and assign the value 25 to it?"
   ]
  },
  {
   "cell_type": "code",
   "execution_count": 29,
   "id": "1342f3fc-f868-49c8-91b5-87c4382bb123",
   "metadata": {},
   "outputs": [
    {
     "name": "stdout",
     "output_type": "stream",
     "text": [
      "25\n",
      "<class 'int'>\n"
     ]
    }
   ],
   "source": [
    "age=25\n",
    "print(age)\n",
    "print(type(age))\n"
   ]
  },
  {
   "cell_type": "code",
   "execution_count": null,
   "id": "8d84d74e-2551-49b7-80f3-28667222b4be",
   "metadata": {},
   "outputs": [],
   "source": [
    "#Q8. Declare a variable named price and assign the value 9.99 to it. What data type does this variable\n",
    "belong to?"
   ]
  },
  {
   "cell_type": "code",
   "execution_count": 30,
   "id": "b6c65def-cc5e-4bb6-9284-f06665328ff4",
   "metadata": {},
   "outputs": [
    {
     "name": "stdout",
     "output_type": "stream",
     "text": [
      "<class 'float'>\n"
     ]
    }
   ],
   "source": [
    "price=9.99\n",
    "print(type(price))"
   ]
  },
  {
   "cell_type": "code",
   "execution_count": null,
   "id": "a8473219-edf7-475e-b7ed-497893f74df4",
   "metadata": {},
   "outputs": [],
   "source": [
    "#Q9. Create a variable named name and assign your full name to it as a string. How would you print the\n",
    "value of this variable?"
   ]
  },
  {
   "cell_type": "code",
   "execution_count": 31,
   "id": "56274f2d-517b-49c1-9f7d-c555c22707d2",
   "metadata": {},
   "outputs": [
    {
     "name": "stdout",
     "output_type": "stream",
     "text": [
      "sejal golande\n"
     ]
    }
   ],
   "source": [
    "name=\"sejal golande\" \n",
    "print(name)"
   ]
  },
  {
   "cell_type": "code",
   "execution_count": 32,
   "id": "4159923d-e3da-48c4-aff0-e9cbe8b45119",
   "metadata": {},
   "outputs": [
    {
     "data": {
      "text/plain": [
       "'sejal golande'"
      ]
     },
     "execution_count": 32,
     "metadata": {},
     "output_type": "execute_result"
    }
   ],
   "source": [
    "name"
   ]
  },
  {
   "cell_type": "code",
   "execution_count": 33,
   "id": "5d222896-dcf5-45ca-8cb2-d64639d837b4",
   "metadata": {},
   "outputs": [],
   "source": [
    "#Q10. Given the string \"Hello, World!\", extract the substring \"World\"."
   ]
  },
  {
   "cell_type": "code",
   "execution_count": 41,
   "id": "7ca4b31d-ffb1-4960-998f-1ffb33ef6daa",
   "metadata": {},
   "outputs": [],
   "source": [
    "a=\"Hello,World!\""
   ]
  },
  {
   "cell_type": "code",
   "execution_count": 42,
   "id": "53ff68e6-b326-4c23-bbe9-0752a473bd2a",
   "metadata": {},
   "outputs": [
    {
     "data": {
      "text/plain": [
       "'Hello,World!'"
      ]
     },
     "execution_count": 42,
     "metadata": {},
     "output_type": "execute_result"
    }
   ],
   "source": [
    "a\n"
   ]
  },
  {
   "cell_type": "code",
   "execution_count": 45,
   "id": "03e90b6a-d6d2-47d5-b663-f80015265750",
   "metadata": {},
   "outputs": [
    {
     "data": {
      "text/plain": [
       "'World!'"
      ]
     },
     "execution_count": 45,
     "metadata": {},
     "output_type": "execute_result"
    }
   ],
   "source": [
    "a[6:12]"
   ]
  },
  {
   "cell_type": "code",
   "execution_count": null,
   "id": "cb92e269-4233-4997-aff8-2f59d31e6e91",
   "metadata": {},
   "outputs": [],
   "source": [
    "#Q11. Create a variable named \"is_student\" and assign it a boolean value indicating whether you are\n",
    "currently a student or not."
   ]
  },
  {
   "cell_type": "code",
   "execution_count": null,
   "id": "37217a86-fd77-4355-821d-07f53dbdeb7e",
   "metadata": {},
   "outputs": [],
   "source": [
    "is_student= True"
   ]
  },
  {
   "cell_type": "code",
   "execution_count": 46,
   "id": "fb9f76a8-713e-4014-9160-1e6c04138e8d",
   "metadata": {},
   "outputs": [
    {
     "data": {
      "text/plain": [
       "True"
      ]
     },
     "execution_count": 46,
     "metadata": {},
     "output_type": "execute_result"
    }
   ],
   "source": [
    "is_student"
   ]
  },
  {
   "cell_type": "code",
   "execution_count": 47,
   "id": "cb18d668-ee2c-4dee-b631-92ce5f1c1387",
   "metadata": {},
   "outputs": [],
   "source": [
    "is_student=False"
   ]
  },
  {
   "cell_type": "code",
   "execution_count": null,
   "id": "6363ad44-7076-45f2-85e1-5144e60f1e2c",
   "metadata": {},
   "outputs": [
    {
     "data": {
      "text/plain": [
       "False"
      ]
     },
     "execution_count": 48,
     "metadata": {},
     "output_type": "execute_result"
    }
   ],
   "source": [
    "is_student"
   ]
  }
 ],
 "metadata": {
  "kernelspec": {
   "display_name": "Python 3 (ipykernel)",
   "language": "python",
   "name": "python3"
  },
  "language_info": {
   "codemirror_mode": {
    "name": "ipython",
    "version": 3
   },
   "file_extension": ".py",
   "mimetype": "text/x-python",
   "name": "python",
   "nbconvert_exporter": "python",
   "pygments_lexer": "ipython3",
   "version": "3.10.8"
  }
 },
 "nbformat": 4,
 "nbformat_minor": 5
}

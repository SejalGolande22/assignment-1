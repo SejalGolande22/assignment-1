{
 "cells": [
  {
   "cell_type": "code",
   "execution_count": null,
   "id": "0e6936a3-0cc5-4ed6-b753-402c82fa2c22",
   "metadata": {},
   "outputs": [],
   "source": [
    "#Q1. Which keyword is used to create a function? Create a function to return a list of odd numbers in the\n",
    "range of 1 to 25."
   ]
  },
  {
   "cell_type": "code",
   "execution_count": null,
   "id": "caa765d3-da2b-4c47-bf2b-65bee06a9152",
   "metadata": {},
   "outputs": [],
   "source": [
    "# def keyword is used to create a function"
   ]
  },
  {
   "cell_type": "code",
   "execution_count": 21,
   "id": "a4e520fa-b9c0-4af0-b067-f78a82a5970d",
   "metadata": {},
   "outputs": [
    {
     "name": "stdout",
     "output_type": "stream",
     "text": [
      "[1, 3, 5, 7, 9, 11, 13, 15, 17, 19, 21, 23]\n"
     ]
    }
   ],
   "source": [
    "def get_odd_no():\n",
    "    odd_no = []\n",
    "    for no in range(1, 25):\n",
    "        if no % 2 != 0:\n",
    "            odd_no.append(no)\n",
    "    return odd_no\n",
    "result = get_odd_no()\n",
    "print(result)"
   ]
  },
  {
   "cell_type": "code",
   "execution_count": null,
   "id": "cae6f510-f598-4604-af16-16f9f16e17e7",
   "metadata": {},
   "outputs": [],
   "source": [
    "#Q2. Why *args and **kwargs is used in some functions? Create a function each for *args and **kwargs\n",
    "to demonstrate their use."
   ]
  },
  {
   "cell_type": "code",
   "execution_count": null,
   "id": "c18a35a7-ddea-485f-9ad0-eec2c9e0074c",
   "metadata": {},
   "outputs": [],
   "source": [
    "#*args  These arguments are collected into a tuple.\n",
    "#**kwargs These arguments are collected into a dictionary."
   ]
  },
  {
   "cell_type": "code",
   "execution_count": 30,
   "id": "8ac470e0-544f-47d1-9aab-3f4931915b66",
   "metadata": {},
   "outputs": [],
   "source": [
    "def test11(*args):\n",
    "    return args"
   ]
  },
  {
   "cell_type": "code",
   "execution_count": 31,
   "id": "f75b1a5c-fb81-42c0-9d03-2a84dcae0a1b",
   "metadata": {},
   "outputs": [
    {
     "data": {
      "text/plain": [
       "()"
      ]
     },
     "execution_count": 31,
     "metadata": {},
     "output_type": "execute_result"
    }
   ],
   "source": [
    "test11()"
   ]
  },
  {
   "cell_type": "code",
   "execution_count": 32,
   "id": "482759c3-653f-437b-9c23-8031cef5cb45",
   "metadata": {},
   "outputs": [
    {
     "data": {
      "text/plain": [
       "tuple"
      ]
     },
     "execution_count": 32,
     "metadata": {},
     "output_type": "execute_result"
    }
   ],
   "source": [
    "type(test11())"
   ]
  },
  {
   "cell_type": "code",
   "execution_count": 43,
   "id": "c65109a7-04ab-47db-9d06-48ba33b6519b",
   "metadata": {},
   "outputs": [
    {
     "name": "stdout",
     "output_type": "stream",
     "text": [
      "('apple', 'banana', 'cherry')\n"
     ]
    }
   ],
   "source": [
    "mytuple = (\"apple\", \"banana\", \"cherry\")\n",
    "print(mytuple)"
   ]
  },
  {
   "cell_type": "code",
   "execution_count": 41,
   "id": "6d323500-00c8-478e-90a0-ce07a545ae0e",
   "metadata": {},
   "outputs": [],
   "source": [
    "def test11(*args,a):\n",
    "    return args,a"
   ]
  },
  {
   "cell_type": "code",
   "execution_count": 34,
   "id": "f5ee2be8-b7b2-483e-992a-acfa79f58aad",
   "metadata": {},
   "outputs": [
    {
     "ename": "TypeError",
     "evalue": "test11() missing 1 required keyword-only argument: 'a'",
     "output_type": "error",
     "traceback": [
      "\u001b[0;31m---------------------------------------------------------------------------\u001b[0m",
      "\u001b[0;31mTypeError\u001b[0m                                 Traceback (most recent call last)",
      "Cell \u001b[0;32mIn[34], line 1\u001b[0m\n\u001b[0;32m----> 1\u001b[0m \u001b[43mtest11\u001b[49m\u001b[43m(\u001b[49m\u001b[38;5;241;43m1\u001b[39;49m\u001b[43m,\u001b[49m\u001b[38;5;241;43m2\u001b[39;49m\u001b[43m,\u001b[49m\u001b[38;5;241;43m3\u001b[39;49m\u001b[43m,\u001b[49m\u001b[38;5;241;43m4\u001b[39;49m\u001b[43m)\u001b[49m\n",
      "\u001b[0;31mTypeError\u001b[0m: test11() missing 1 required keyword-only argument: 'a'"
     ]
    }
   ],
   "source": [
    "test11(1,2,3,4)"
   ]
  },
  {
   "cell_type": "code",
   "execution_count": 44,
   "id": "a0c98ffb-3a2b-4f35-80eb-88fe6c9992af",
   "metadata": {},
   "outputs": [
    {
     "data": {
      "text/plain": [
       "((1, 2, 3, 4), 45)"
      ]
     },
     "execution_count": 44,
     "metadata": {},
     "output_type": "execute_result"
    }
   ],
   "source": [
    "test11(1,2,3,4,a=45)"
   ]
  },
  {
   "cell_type": "code",
   "execution_count": 36,
   "id": "e8b2db38-6e21-43c0-bf18-a9ec0937e656",
   "metadata": {},
   "outputs": [],
   "source": [
    "def test13(**kargs):\n",
    "    return kargs"
   ]
  },
  {
   "cell_type": "code",
   "execution_count": 37,
   "id": "676e4186-2a35-4b24-a987-c9807c26ee33",
   "metadata": {},
   "outputs": [
    {
     "data": {
      "text/plain": [
       "{}"
      ]
     },
     "execution_count": 37,
     "metadata": {},
     "output_type": "execute_result"
    }
   ],
   "source": [
    "test13()"
   ]
  },
  {
   "cell_type": "code",
   "execution_count": 38,
   "id": "d03d5d69-6a41-436c-83f3-a3233fedd97c",
   "metadata": {},
   "outputs": [
    {
     "data": {
      "text/plain": [
       "dict"
      ]
     },
     "execution_count": 38,
     "metadata": {},
     "output_type": "execute_result"
    }
   ],
   "source": [
    "type(test13())"
   ]
  },
  {
   "cell_type": "code",
   "execution_count": 39,
   "id": "2dcaca10-2a4a-4b15-b584-cf115a4d922f",
   "metadata": {},
   "outputs": [
    {
     "data": {
      "text/plain": [
       "{'a': [123, 2, 3, 2, 2], 'b': 'sejal', 'c': 233.4, 'd': True}"
      ]
     },
     "execution_count": 39,
     "metadata": {},
     "output_type": "execute_result"
    }
   ],
   "source": [
    "test13(a=[123,2,3,2,2],b=\"sejal\",c=233.4,d=True)"
   ]
  },
  {
   "cell_type": "code",
   "execution_count": null,
   "id": "517acbb4-8ef0-46d5-a8b3-b9d4fd8da67d",
   "metadata": {},
   "outputs": [],
   "source": [
    "#Q3. What is an iterator in python? Name the method used to initialise the iterator object and the method\n",
    "used for iteration. Use these methods to print the first five elements of the given list [2, 4, 6, 8, 10, 12, 14,\n",
    "16, 18, 20]."
   ]
  },
  {
   "cell_type": "code",
   "execution_count": null,
   "id": "5d913851-d4a4-44f3-a126-42754f6746ff",
   "metadata": {},
   "outputs": [],
   "source": [
    "\"\"\" An iterator is an object that contains a countable number of values.\n",
    "An iterator is an object that can be iterated upon, meaning that you can traverse through all the values.\n",
    "Technically, in Python, an iterator is an object which implements the iterator protocol, which consist of the methods __iter__() and __next__().\"\"\""
   ]
  },
  {
   "cell_type": "code",
   "execution_count": 67,
   "id": "1d9ed940-bf61-41ba-ab8e-887cc8c95c51",
   "metadata": {},
   "outputs": [],
   "source": [
    "my_list = [2, 4, 6, 8, 10, 12, 14, 16, 18, 20]\n",
    "\n",
    "iterator = iter(my_list)"
   ]
  },
  {
   "cell_type": "code",
   "execution_count": 69,
   "id": "dbe9fe51-b902-47e8-9408-147b5d38215a",
   "metadata": {},
   "outputs": [
    {
     "name": "stdout",
     "output_type": "stream",
     "text": [
      "12\n",
      "14\n",
      "16\n",
      "18\n",
      "20\n"
     ]
    }
   ],
   "source": [
    "for my_list in range(5):  \n",
    "    element = next(iterator)\n",
    "    print(element)"
   ]
  },
  {
   "cell_type": "code",
   "execution_count": null,
   "id": "d6c13f06-439f-4c31-a781-afb8b075f1f1",
   "metadata": {},
   "outputs": [],
   "source": [
    "#Q4. What is a generator function in python? Why yield keyword is used? Give an example of a generator\n",
    "function."
   ]
  },
  {
   "cell_type": "code",
   "execution_count": null,
   "id": "09e90756-01aa-462b-89e2-02fe9da2810e",
   "metadata": {},
   "outputs": [],
   "source": [
    "\"\"\" Generator: A Python generator function allows you to declare a function that behaves like an iterator, providing a faster and easier way to create iterators.\n",
    "They can be used on an abstract container of data to turn it into an iterable object like lists, dictionaries and strings.    \n",
    "\n",
    "A generator function in Python is defined like a normal function, but whenever it needs to generate a value, it does so with the yield keyword rather than return. \n",
    "If the body of a def contains yield, the function automatically becomes a Python generator function. \"\"\""
   ]
  },
  {
   "cell_type": "code",
   "execution_count": null,
   "id": "9b13d38e-67d3-432d-ab99-8ce792092b65",
   "metadata": {},
   "outputs": [],
   "source": [
    "\"\"\" Yield: When the yielg statement is encountered, the current value of i is produced, and the function's state is saved.\n",
    "the function can be resumed later to generate the next value.\"\"\""
   ]
  },
  {
   "cell_type": "code",
   "execution_count": 3,
   "id": "e7e35025-d381-4acf-818b-5a7b1fa9c9e7",
   "metadata": {},
   "outputs": [],
   "source": [
    "def test_fib(n):\n",
    "    a,b = 0,1\n",
    "    for i in range(n):\n",
    "        yield a\n",
    "        a,b = b, a+b\n"
   ]
  },
  {
   "cell_type": "code",
   "execution_count": 4,
   "id": "cb7de2e8-5732-4cdf-803e-58ffc7641af8",
   "metadata": {},
   "outputs": [
    {
     "name": "stdout",
     "output_type": "stream",
     "text": [
      "0\n",
      "1\n",
      "1\n",
      "2\n",
      "3\n",
      "5\n",
      "8\n",
      "13\n",
      "21\n",
      "34\n"
     ]
    }
   ],
   "source": [
    "for i in test_fib(10):\n",
    "    print(i)"
   ]
  },
  {
   "cell_type": "code",
   "execution_count": null,
   "id": "45ff5650-b1d2-4525-9db2-b4bbbde077d8",
   "metadata": {},
   "outputs": [],
   "source": [
    "#Q5. Create a generator function for prime numbers less than 1000. Use the next() method to print the\n",
    "first 20 prime numbers."
   ]
  },
  {
   "cell_type": "code",
   "execution_count": 7,
   "id": "fe576915-f716-43b4-8f40-ed1eb846f3d6",
   "metadata": {},
   "outputs": [],
   "source": [
    "def prime():\n",
    "    yield 2\n",
    "    prime_lists =[2]\n",
    "    for i in range(3,1000):\n",
    "        is_prime = True\n",
    "        for prime in prime_lists:\n",
    "            if i% prime == 0:\n",
    "                is_prime = False\n",
    "                break\n",
    "        if is_prime:\n",
    "            prime_lists.append(i)\n",
    "            yield i"
   ]
  },
  {
   "cell_type": "code",
   "execution_count": 8,
   "id": "c0b66fc4-d327-408d-838a-c84e38c118f5",
   "metadata": {},
   "outputs": [
    {
     "name": "stdout",
     "output_type": "stream",
     "text": [
      "2\n",
      "3\n",
      "5\n",
      "7\n",
      "11\n",
      "13\n",
      "17\n",
      "19\n",
      "23\n",
      "29\n",
      "31\n",
      "37\n",
      "41\n",
      "43\n",
      "47\n",
      "53\n",
      "59\n",
      "61\n",
      "67\n",
      "71\n"
     ]
    }
   ],
   "source": [
    "prime_gen = prime()\n",
    "for i in range(20):\n",
    "    print(next(prime_gen))"
   ]
  },
  {
   "cell_type": "code",
   "execution_count": 6,
   "id": "b28a924c-29f5-421b-814f-30495ab1881a",
   "metadata": {},
   "outputs": [],
   "source": [
    "#Q6. Write a python program to print the first 10 Fibonacci numbers using a while loop."
   ]
  },
  {
   "cell_type": "code",
   "execution_count": 55,
   "id": "f53ebd08-8c47-44b2-9f7d-7ef0f19bd867",
   "metadata": {},
   "outputs": [],
   "source": [
    "def test_fib(n):\n",
    "    a,b = 0,1\n",
    "    for i in range(n):\n",
    "        yield a\n",
    "        a,b = b, a+b\n"
   ]
  },
  {
   "cell_type": "code",
   "execution_count": 56,
   "id": "00ab3813-22b0-4fa1-9c19-a5c7f9e834eb",
   "metadata": {},
   "outputs": [
    {
     "name": "stdout",
     "output_type": "stream",
     "text": [
      "0\n",
      "1\n",
      "1\n",
      "2\n",
      "3\n",
      "5\n",
      "8\n",
      "13\n",
      "21\n",
      "34\n"
     ]
    }
   ],
   "source": [
    "for i in test_fib(10):\n",
    "    print(i)"
   ]
  },
  {
   "cell_type": "code",
   "execution_count": null,
   "id": "66c05dc3-58e9-42d5-a7d0-f9a907d430fa",
   "metadata": {},
   "outputs": [],
   "source": [
    "#Q7. Write a List Comprehension to iterate through the given string: ‘pwskills’.\n",
    "Expected output: ['p', 'w', 's', 'k', 'i', 'l', 'l', 's']"
   ]
  },
  {
   "cell_type": "code",
   "execution_count": 9,
   "id": "25862694-5d2a-4383-9a19-d528d665b25a",
   "metadata": {},
   "outputs": [
    {
     "name": "stdout",
     "output_type": "stream",
     "text": [
      "['p', 'w', 's', 'k', 'i', 'l', 'l', 's']\n"
     ]
    }
   ],
   "source": [
    "input_string = 'pwskills'\n",
    "output_list = [char for char in input_string]\n",
    "print(output_list)"
   ]
  },
  {
   "cell_type": "code",
   "execution_count": null,
   "id": "754b36dc-07f2-482c-9e19-0a14f30d7da9",
   "metadata": {},
   "outputs": [],
   "source": [
    "#Q8. Write a python program to check whether a given number is Palindrome or not using a while loop."
   ]
  },
  {
   "cell_type": "code",
   "execution_count": 11,
   "id": "4382b091-4223-4f7a-8129-0f242aa7e3f0",
   "metadata": {},
   "outputs": [
    {
     "name": "stdin",
     "output_type": "stream",
     "text": [
      "Enter a number:  54043\n"
     ]
    },
    {
     "name": "stdout",
     "output_type": "stream",
     "text": [
      "Not a Palindrome\n"
     ]
    }
   ],
   "source": [
    "# Input a number\n",
    "num = int(input(\"Enter a number: \"))\n",
    "original_num = num\n",
    "reverse_num = 0\n",
    "\n",
    "# Reverse the number\n",
    "while num > 0:\n",
    "    digit = num % 10\n",
    "    reverse_num = reverse_num * 10 + digit\n",
    "    num = num // 10\n",
    "\n",
    "# Check if it's a palindrome\n",
    "if original_num == reverse_num:\n",
    "    print(\"Palindrome\")\n",
    "else:\n",
    "    print(\"Not a Palindrome\")"
   ]
  },
  {
   "cell_type": "code",
   "execution_count": null,
   "id": "21254e83-3bce-44e4-8121-9ca66ae256d1",
   "metadata": {},
   "outputs": [],
   "source": [
    "#Q9. Write a code to print odd numbers from 1 to 100 using list comprehension."
   ]
  },
  {
   "cell_type": "code",
   "execution_count": 12,
   "id": "c2b96adf-7dde-4346-be53-5d3166f9f815",
   "metadata": {},
   "outputs": [
    {
     "name": "stdout",
     "output_type": "stream",
     "text": [
      "[1, 3, 5, 7, 9, 11, 13, 15, 17, 19, 21, 23, 25, 27, 29, 31, 33, 35, 37, 39, 41, 43, 45, 47, 49, 51, 53, 55, 57, 59, 61, 63, 65, 67, 69, 71, 73, 75, 77, 79, 81, 83, 85, 87, 89, 91, 93, 95, 97, 99]\n"
     ]
    }
   ],
   "source": [
    "odd_numbers = [num for num in range(1, 101) if num % 2 != 0]\n",
    "print(odd_numbers)"
   ]
  },
  {
   "cell_type": "code",
   "execution_count": null,
   "id": "8d48a95d-45d3-472e-9cd9-d01cc1a9216e",
   "metadata": {},
   "outputs": [],
   "source": []
  }
 ],
 "metadata": {
  "kernelspec": {
   "display_name": "Python 3 (ipykernel)",
   "language": "python",
   "name": "python3"
  },
  "language_info": {
   "codemirror_mode": {
    "name": "ipython",
    "version": 3
   },
   "file_extension": ".py",
   "mimetype": "text/x-python",
   "name": "python",
   "nbconvert_exporter": "python",
   "pygments_lexer": "ipython3",
   "version": "3.10.8"
  }
 },
 "nbformat": 4,
 "nbformat_minor": 5
}

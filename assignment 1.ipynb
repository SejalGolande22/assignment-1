{
 "cells": [
  {
   "cell_type": "code",
   "execution_count": 2,
   "id": "2395269f-0ad3-4c78-9ffd-20394afdef6c",
   "metadata": {},
   "outputs": [],
   "source": [
    "# Q1. Create one variable containing following type of data:"
   ]
  },
  {
   "cell_type": "code",
   "execution_count": 3,
   "id": "a386741d-1bcc-41d8-b741-055a2fb5ae82",
   "metadata": {},
   "outputs": [],
   "source": [
    "a = \"sejal\""
   ]
  },
  {
   "cell_type": "code",
   "execution_count": 4,
   "id": "dc8f873a-baa2-4480-97b2-7876101bf8ee",
   "metadata": {},
   "outputs": [
    {
     "data": {
      "text/plain": [
       "str"
      ]
     },
     "execution_count": 4,
     "metadata": {},
     "output_type": "execute_result"
    }
   ],
   "source": [
    "type(a) "
   ]
  },
  {
   "cell_type": "code",
   "execution_count": 7,
   "id": "53fc962b-7d94-423e-954c-2458af6bbed7",
   "metadata": {},
   "outputs": [],
   "source": [
    "b = [\"white\", \"black\",\"blue\"]"
   ]
  },
  {
   "cell_type": "code",
   "execution_count": 8,
   "id": "23209542-fc78-4caf-88ea-34c2105e5193",
   "metadata": {},
   "outputs": [
    {
     "data": {
      "text/plain": [
       "list"
      ]
     },
     "execution_count": 8,
     "metadata": {},
     "output_type": "execute_result"
    }
   ],
   "source": [
    "type(b)"
   ]
  },
  {
   "cell_type": "code",
   "execution_count": 9,
   "id": "847437d2-16dc-4601-b3a4-2ed5611245c2",
   "metadata": {},
   "outputs": [],
   "source": [
    "c= 50.384566767676"
   ]
  },
  {
   "cell_type": "code",
   "execution_count": 10,
   "id": "af33f964-ca58-4fc0-a6d7-e5ef8d10d731",
   "metadata": {},
   "outputs": [
    {
     "data": {
      "text/plain": [
       "float"
      ]
     },
     "execution_count": 10,
     "metadata": {},
     "output_type": "execute_result"
    }
   ],
   "source": [
    "type(c)"
   ]
  },
  {
   "cell_type": "code",
   "execution_count": 11,
   "id": "d38e3645-d39a-4a0e-972e-88d0deedb03d",
   "metadata": {},
   "outputs": [],
   "source": [
    "d= (\"white\", \"black\",\"blue\")"
   ]
  },
  {
   "cell_type": "code",
   "execution_count": 12,
   "id": "2e9cfd07-797b-41dd-bb7f-53cdaf0b6bfe",
   "metadata": {},
   "outputs": [
    {
     "data": {
      "text/plain": [
       "tuple"
      ]
     },
     "execution_count": 12,
     "metadata": {},
     "output_type": "execute_result"
    }
   ],
   "source": [
    "type(d)"
   ]
  },
  {
   "cell_type": "code",
   "execution_count": 13,
   "id": "c2ed8e8e-dabc-434e-bef9-7674e9b1f002",
   "metadata": {},
   "outputs": [],
   "source": [
    "#Q2. Given are some following variables containing data:\n",
    "What will be the data type of the above given variable."
   ]
  },
  {
   "cell_type": "code",
   "execution_count": 15,
   "id": "8cbec816-5e07-4758-a29e-6d27fccb9075",
   "metadata": {},
   "outputs": [],
   "source": [
    "var1 = ''"
   ]
  },
  {
   "cell_type": "code",
   "execution_count": 16,
   "id": "c9398645-42d4-426b-962f-afe4d2dc712b",
   "metadata": {},
   "outputs": [
    {
     "data": {
      "text/plain": [
       "str"
      ]
     },
     "execution_count": 16,
     "metadata": {},
     "output_type": "execute_result"
    }
   ],
   "source": [
    "type(var1)"
   ]
  },
  {
   "cell_type": "code",
   "execution_count": 18,
   "id": "1b660c77-ef80-45a4-bdfa-395babf7e29d",
   "metadata": {},
   "outputs": [],
   "source": [
    "var2 = '[ DS , ML , Python]'"
   ]
  },
  {
   "cell_type": "code",
   "execution_count": 19,
   "id": "a3f0176b-1e9d-40b5-b8b0-b430e0338191",
   "metadata": {},
   "outputs": [
    {
     "data": {
      "text/plain": [
       "str"
      ]
     },
     "execution_count": 19,
     "metadata": {},
     "output_type": "execute_result"
    }
   ],
   "source": [
    "type(var2)"
   ]
  },
  {
   "cell_type": "code",
   "execution_count": 21,
   "id": "1a5c82f8-699a-4c4d-a4a8-01a8dd96e579",
   "metadata": {},
   "outputs": [],
   "source": [
    "var3 = [ 'DS' , 'ML' , 'Python' ]"
   ]
  },
  {
   "cell_type": "code",
   "execution_count": 22,
   "id": "e3077f90-dd46-4b04-b433-dccba9e77a23",
   "metadata": {},
   "outputs": [
    {
     "data": {
      "text/plain": [
       "list"
      ]
     },
     "execution_count": 22,
     "metadata": {},
     "output_type": "execute_result"
    }
   ],
   "source": [
    "type(var3)"
   ]
  },
  {
   "cell_type": "code",
   "execution_count": 23,
   "id": "4ea0c027-1ab0-4ec5-b671-3b84937fc8d4",
   "metadata": {},
   "outputs": [],
   "source": [
    "var4 = 1."
   ]
  },
  {
   "cell_type": "code",
   "execution_count": 24,
   "id": "34617e4f-0a04-4e01-a1e1-5be3670bb228",
   "metadata": {},
   "outputs": [
    {
     "data": {
      "text/plain": [
       "float"
      ]
     },
     "execution_count": 24,
     "metadata": {},
     "output_type": "execute_result"
    }
   ],
   "source": [
    "type(var4)"
   ]
  },
  {
   "cell_type": "code",
   "execution_count": null,
   "id": "b91e499f-7757-455d-a155-b3c98f10073a",
   "metadata": {},
   "outputs": [],
   "source": [
    "#Q3. Explain the use of the following operators using an example:"
   ]
  },
  {
   "cell_type": "code",
   "execution_count": 1,
   "id": "534251ba-bb6e-4ce6-9f5d-266001193ece",
   "metadata": {},
   "outputs": [
    {
     "data": {
      "text/plain": [
       "2.142857142857143"
      ]
     },
     "execution_count": 1,
     "metadata": {},
     "output_type": "execute_result"
    }
   ],
   "source": [
    "45/21"
   ]
  },
  {
   "cell_type": "code",
   "execution_count": 2,
   "id": "7cbb2e00-0c94-4b3b-a7d4-aa57210d1aec",
   "metadata": {},
   "outputs": [
    {
     "data": {
      "text/plain": [
       "37.666666666666664"
      ]
     },
     "execution_count": 2,
     "metadata": {},
     "output_type": "execute_result"
    }
   ],
   "source": [
    "339/9"
   ]
  },
  {
   "cell_type": "code",
   "execution_count": 3,
   "id": "e40fa4c3-ea9d-40f5-af13-dd286dedfe7d",
   "metadata": {},
   "outputs": [
    {
     "data": {
      "text/plain": [
       "0.044444444444444446"
      ]
     },
     "execution_count": 3,
     "metadata": {},
     "output_type": "execute_result"
    }
   ],
   "source": [
    "2/45"
   ]
  },
  {
   "cell_type": "code",
   "execution_count": 5,
   "id": "7a7f5673-2db7-44eb-8a44-0f99f19004e9",
   "metadata": {},
   "outputs": [
    {
     "data": {
      "text/plain": [
       "0"
      ]
     },
     "execution_count": 5,
     "metadata": {},
     "output_type": "execute_result"
    }
   ],
   "source": [
    "34%34"
   ]
  },
  {
   "cell_type": "code",
   "execution_count": 8,
   "id": "78fae702-b8ac-4d59-bf36-3a44a0d41c4c",
   "metadata": {},
   "outputs": [
    {
     "data": {
      "text/plain": [
       "2"
      ]
     },
     "execution_count": 8,
     "metadata": {},
     "output_type": "execute_result"
    }
   ],
   "source": [
    "2%23"
   ]
  },
  {
   "cell_type": "code",
   "execution_count": 9,
   "id": "d7beb20c-e86a-43d2-846b-a876d3cf044b",
   "metadata": {},
   "outputs": [
    {
     "data": {
      "text/plain": [
       "12"
      ]
     },
     "execution_count": 9,
     "metadata": {},
     "output_type": "execute_result"
    }
   ],
   "source": [
    "12%345"
   ]
  },
  {
   "cell_type": "code",
   "execution_count": 10,
   "id": "7cfc8995-6827-4cb5-a3be-5d8ff78c95b4",
   "metadata": {},
   "outputs": [
    {
     "data": {
      "text/plain": [
       "4"
      ]
     },
     "execution_count": 10,
     "metadata": {},
     "output_type": "execute_result"
    }
   ],
   "source": [
    "12//3"
   ]
  },
  {
   "cell_type": "code",
   "execution_count": 11,
   "id": "31721f48-afd2-453c-8754-932d66235a16",
   "metadata": {},
   "outputs": [
    {
     "data": {
      "text/plain": [
       "69"
      ]
     },
     "execution_count": 11,
     "metadata": {},
     "output_type": "execute_result"
    }
   ],
   "source": [
    "345//5"
   ]
  },
  {
   "cell_type": "code",
   "execution_count": 12,
   "id": "8427bbe6-63ce-499c-bae2-33b33de6e027",
   "metadata": {},
   "outputs": [
    {
     "data": {
      "text/plain": [
       "7"
      ]
     },
     "execution_count": 12,
     "metadata": {},
     "output_type": "execute_result"
    }
   ],
   "source": [
    "67//9"
   ]
  },
  {
   "cell_type": "code",
   "execution_count": 13,
   "id": "b727d09b-13b1-4c50-8881-8bca224aaca4",
   "metadata": {},
   "outputs": [
    {
     "data": {
      "text/plain": [
       "529"
      ]
     },
     "execution_count": 13,
     "metadata": {},
     "output_type": "execute_result"
    }
   ],
   "source": [
    "23**2"
   ]
  },
  {
   "cell_type": "code",
   "execution_count": 14,
   "id": "3f939ab1-c53f-422e-af0f-4bed52f11410",
   "metadata": {},
   "outputs": [
    {
     "data": {
      "text/plain": [
       "248832"
      ]
     },
     "execution_count": 14,
     "metadata": {},
     "output_type": "execute_result"
    }
   ],
   "source": [
    "12**5"
   ]
  },
  {
   "cell_type": "code",
   "execution_count": 15,
   "id": "f9a0446a-284f-4c18-99e7-914f2443d38a",
   "metadata": {},
   "outputs": [
    {
     "data": {
      "text/plain": [
       "64"
      ]
     },
     "execution_count": 15,
     "metadata": {},
     "output_type": "execute_result"
    }
   ],
   "source": [
    "2**6"
   ]
  },
  {
   "cell_type": "code",
   "execution_count": null,
   "id": "acbc41eb-9e4d-41d1-9a02-a4d9a11d45db",
   "metadata": {},
   "outputs": [],
   "source": [
    "#Q4. Create a list of length 10 of your choice containing multiple types of data. Using for loop print the\n",
    "element and its data type.\n"
   ]
  },
  {
   "cell_type": "code",
   "execution_count": 12,
   "id": "77896047-9146-446b-b0a5-3774838a3791",
   "metadata": {},
   "outputs": [
    {
     "name": "stdout",
     "output_type": "stream",
     "text": [
      "10 <class 'int'>\n",
      "Hello <class 'str'>\n",
      "9.14 <class 'float'>\n",
      "True <class 'bool'>\n",
      "[1, 2, 3] <class 'list'>\n",
      "{'name': 'Kevin', 'age': 25} <class 'dict'>\n",
      "(4, 5, 6) <class 'tuple'>\n",
      "None <class 'NoneType'>\n",
      "False <class 'bool'>\n",
      "20736 <class 'int'>\n"
     ]
    }
   ],
   "source": [
    "my_list = [10, 'Hello', 9.14, True, [1, 2, 3], {'name': 'Kevin', 'age': 25}, (4, 5, 6), None, False, 12**4]\n",
    "for element in my_list:\n",
    "    print(element, type(element))\n"
   ]
  },
  {
   "cell_type": "code",
   "execution_count": null,
   "id": "69e49b12-4851-408c-a44d-dd3941c0b02c",
   "metadata": {},
   "outputs": [],
   "source": [
    "#Q5. Using a while loop, verify if the number A is purely divisible by number B and if so then how many times it can be divisible."
   ]
  },
  {
   "cell_type": "code",
   "execution_count": 20,
   "id": "5c93f7f4-8dec-4c07-93a2-bdd529f34f69",
   "metadata": {},
   "outputs": [
    {
     "name": "stdout",
     "output_type": "stream",
     "text": [
      "The number 9.0 can be divided by 5 a total of 1 times.\n"
     ]
    }
   ],
   "source": [
    "A= 45\n",
    "B= 5\n",
    "count = 0\n",
    "\n",
    "while A % B == 0:\n",
    "    A /= B\n",
    "    count += 1\n",
    "\n",
    "print(f\"The number {A} can be divided by {B} a total of {count} times.\")"
   ]
  },
  {
   "cell_type": "code",
   "execution_count": null,
   "id": "724ec6db-6b75-4314-a8e5-15f7323b4f1e",
   "metadata": {},
   "outputs": [],
   "source": [
    "#Q6. Create a list containing 25 int type data. Using for loop and if-else condition print if the element is\n",
    "divisible by 3 or not."
   ]
  },
  {
   "cell_type": "code",
   "execution_count": 9,
   "id": "a4adc505-9c15-4f63-bf6d-f48b7add99a0",
   "metadata": {},
   "outputs": [
    {
     "name": "stdout",
     "output_type": "stream",
     "text": [
      "elem is not divisible by 3\n",
      "elem is not divisible by 3\n",
      "elem is divisible by 3\n",
      "elem is not divisible by 3\n",
      "elem is not divisible by 3\n",
      "elem is divisible by 3\n",
      "elem is not divisible by 3\n",
      "elem is not divisible by 3\n",
      "elem is divisible by 3\n",
      "elem is not divisible by 3\n",
      "elem is not divisible by 3\n",
      "elem is divisible by 3\n",
      "elem is not divisible by 3\n",
      "elem is not divisible by 3\n",
      "elem is divisible by 3\n",
      "elem is not divisible by 3\n",
      "elem is not divisible by 3\n",
      "elem is divisible by 3\n",
      "elem is not divisible by 3\n",
      "elem is not divisible by 3\n",
      "elem is divisible by 3\n",
      "elem is not divisible by 3\n",
      "elem is not divisible by 3\n",
      "elem is divisible by 3\n",
      "elem is not divisible by 3\n"
     ]
    }
   ],
   "source": [
    "elements= [1,2,3,4,5,6,7,8,9,10,11,12,13,14,15,16,17,18,19,20,21,22,23,24,25]\n",
    "\n",
    "for elem in elements:\n",
    "    if elem % 3 == 0:\n",
    "        print(\"elem is divisible by 3\")\n",
    "    else:\n",
    "        print(\"elem is not divisible by 3\")"
   ]
  },
  {
   "cell_type": "code",
   "execution_count": null,
   "id": "18fb2887-dd51-4398-9667-94159da94c94",
   "metadata": {},
   "outputs": [],
   "source": [
    "#Q7. What do you understand about mutable and immutable data types? Give examples for both showing\n",
    "this property."
   ]
  },
  {
   "cell_type": "code",
   "execution_count": 21,
   "id": "8f4ba65e-59c1-43d3-8b19-839563b65720",
   "metadata": {},
   "outputs": [
    {
     "name": "stdout",
     "output_type": "stream",
     "text": [
      "6\n"
     ]
    }
   ],
   "source": [
    "#immutable\n",
    "x = 5\n",
    "x += 1  \n",
    "print(x)"
   ]
  },
  {
   "cell_type": "code",
   "execution_count": 23,
   "id": "f9879e4a-092a-4e6e-8202-9fd55afa1fdc",
   "metadata": {},
   "outputs": [
    {
     "name": "stdout",
     "output_type": "stream",
     "text": [
      "sejal golande\n"
     ]
    }
   ],
   "source": [
    "#immutable\n",
    "s = \"sejal\"\n",
    "s += \" golande\"  \n",
    "print(s) "
   ]
  },
  {
   "cell_type": "code",
   "execution_count": 25,
   "id": "05b878a4-873c-46aa-a554-7a19a0f7e067",
   "metadata": {},
   "outputs": [
    {
     "name": "stdout",
     "output_type": "stream",
     "text": [
      "[1, 2, 3, 6, 78, 4]\n"
     ]
    }
   ],
   "source": [
    "#mutable\n",
    "my_list = [1, 2, 3,6,78]\n",
    "my_list.append(4)  \n",
    "print(my_list)"
   ]
  },
  {
   "cell_type": "code",
   "execution_count": 26,
   "id": "a2c4c946-dd5f-4c69-9c2c-80487ea73473",
   "metadata": {},
   "outputs": [
    {
     "name": "stdout",
     "output_type": "stream",
     "text": [
      "[0.2, 34, 'sejal', 112, True, 9]\n"
     ]
    }
   ],
   "source": [
    "#mutable\n",
    "a = [0.2,34,\"sejal\",112,True]\n",
    "a.append(9)\n",
    "print(a)"
   ]
  }
 ],
 "metadata": {
  "kernelspec": {
   "display_name": "Python 3 (ipykernel)",
   "language": "python",
   "name": "python3"
  },
  "language_info": {
   "codemirror_mode": {
    "name": "ipython",
    "version": 3
   },
   "file_extension": ".py",
   "mimetype": "text/x-python",
   "name": "python",
   "nbconvert_exporter": "python",
   "pygments_lexer": "ipython3",
   "version": "3.10.8"
  }
 },
 "nbformat": 4,
 "nbformat_minor": 5
}
